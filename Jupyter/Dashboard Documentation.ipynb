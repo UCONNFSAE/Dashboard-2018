{
 "cells": [
  {
   "cell_type": "markdown",
   "metadata": {},
   "source": [
    "##**Timeline**\n",
    "- Looked at previous dashboard code to learn what was used and what is needed (libraries and hardware)\n",
    "- Made an official Formula SAE GitHub account to contain and log changes we made to any code that we used\n",
    "- Made a mock-up tachometer to experiment on how to improve it and get more experience with working with Arduino\n",
    "- Experimented with start-up animations for the tachometer\n",
    "- Modified previous dashboard code to omit code that is no longer needed for the new dashboard (such as: 4 digit 14-segment LED displays, tachometer LED-strip clear functions)\n",
    "- Experimented with a PWM driver for controlling brightness on the dashboard display and drive a 7-segment RGB 1\" display for the gear position indicator\n",
    "- Tested 2 warning LEDs for engine temperature and engine oil pressure with PWM driver\n",
    "- Acquired 7-segment RGB 1\" display from Adafruit. Soldered 7 wires connected to PWM driver to test functionality\n",
    "- Acquired 7-segment RGB 1\" display with NeoPixel support from RGBDigit. Simplifies amount of pins required and code (only 3 pins and uses NeoPixel library). No need for PWM driver to control 7-segment display.\n",
    "- Made a mock-up gear position shifter with color matching to tachometer\n",
    "- Updated dashboard code to support PWM driver and 7-segment display. Rough draft ready for testing\n",
    "- Acquired main arduino board, CAN BUS shield, and custom power PCB shield for testing new dashboard code. Made prototype of all wiring to test with dynamometer. See **Dyno To Do Procedure**"
   ]
  },
  {
   "cell_type": "markdown",
   "metadata": {},
   "source": [
    "##**Hardware**\n",
    "- Arduino Uno\n",
    "- Custom PCB power shield\n",
    "- 2 x 10k ohm resistor\n",
    "- 1 x 330 ohm resistor\n",
    "\n",
    "- [CAN-BUS Shield v1.2](https://www.seeedstudio.com/CAN-BUS-Shield-V1.2-p-2256.html)\n",
    "  - Libraries: mcp_can.h, SPI.h\n",
    "  - Requires digital pins 9-13\n",
    "\n",
    "- 2 x [Adafruit NeoPixel Stick 8 x 5050 RGB LED](https://www.adafruit.com/product/1426)\n",
    "  - Libraries: Adafruit_NeoPixel.h library\n",
    "  - Operational Frequency: 800 kHz datastream\n",
    "  - Can use any digital output pin\n",
    "  - 300-500 ohm resistor on data line\n",
    "  \n",
    "- [Adafruit 12-chanel 16-bit PWM LED driver SPI](https://www.adafruit.com/product/1455)\n",
    "  - Libraries: Adafruit_TLC59711.h, SPI.h\n",
    "  - 9600 baud rate\n",
    "  - Any digital pin can be used for the SPI data output and SPI clock\n",
    "  - 12V on V+\n",
    "  \n",
    "- [RGBDigit 1\" 7-segment RGB Display](https://www.rgbdigit.com/shop/index.php?id_product=8&controller=product&id_lang=1)\n",
    "  - Favored using this version for its simplicity\n",
    "  - Built in 330 ohm resistor on data pin"
   ]
  },
  {
   "cell_type": "markdown",
   "metadata": {},
   "source": [
    "###Code Documentation\n",
    "Dashboard Code"
   ]
  },
  {
   "cell_type": "markdown",
   "metadata": {},
   "source": [
    "##Libraries"
   ]
  },
  {
   "cell_type": "code",
   "execution_count": null,
   "metadata": {},
   "outputs": [],
   "source": [
    "// Libraries:\n",
    "#include <mcp_can.h>\n",
    "#include <SPI.h>\n",
    "#include <Adafruit_NeoPixel.h>\n",
    "#include <Adafruit_TLC59711.h>"
   ]
  },
  {
   "cell_type": "markdown",
   "metadata": {},
   "source": [
    "- mcp_can: used for allowing the CAN-BUS Shield to communicate between the CAN line and the arduino board. Publicly available from Seeed Studio.\n",
    "- SPI: library for communication between several hardware. Included with Arduino.\n",
    "- Adafruit_Neopixel: all NeoPixels rely on this library to function (LED strip and 7-segment display). Publicly available from Adafruit.\n",
    "- Adafruit_TLC59711: handles communication with the TLC59711 PWM driver. Publicly available from Adafruit."
   ]
  },
  {
   "cell_type": "markdown",
   "metadata": {},
   "source": [
    "##Defines and Initializations\n",
    "Non-variable and final values should be defined here as #defines so it can be changed easily if need be and can't be changed while running the code."
   ]
  },
  {
   "cell_type": "code",
   "execution_count": null,
   "metadata": {},
   "outputs": [],
   "source": [
    "// LED neopixel strip parameters\n",
    "#define SPI_CS_PIN 9                                  // Declares D9 as CS for Seeed's CAN-BUS Shield\n",
    "#define stripLength 16                                // NeoPixel LED strip length of 16\n",
    "#define stripDataPin 5                                // Declares D5 for strip data.\n",
    "\n",
    "// Segment display paramaters\n",
    "#define segmentLength 8                               // Segment display \"length\" of 8\n",
    "#define segmentDataPin 3                              // D3 for segment display data\n",
    "\n",
    "#define brightness 100                           // 0 = off, 255 = fullbright\n",
    "\n",
    "// TLC59711 parameters\n",
    "#define NUM_TLC59711 1 // amount of chips connected\n",
    "#define data 8         // PWM data pin (any digital pin)\n",
    "#define clock 7        // PWM clock pin (any digital pin)\n",
    "#define ENG_LED 0      // engine LED R0\n",
    "#define OIL_LED 1      // EOP LED G0\n",
    "#define DUTY 10        // values from 0 to 100% representing duty cycle\n",
    "\n",
    "// Engine parameters                                         CHANGE VALUES HERE\n",
    "#define low_rpm 2200\n",
    "#define high_rpm 10000\n",
    "#define WARN_ENG_TEMP 90\n",
    "#define WARN_EOP 55\n",
    "\n",
    "// Library Initializations:\n",
    "MCP_CAN CAN(SPI_CS_PIN);      // Sets CS pin.\n",
    "Adafruit_NeoPixel strip = Adafruit_NeoPixel(stripLength, stripDataPin, NEO_GRB + NEO_KHZ800);      // Configures the NeoPixel Strip for 16 LEDs.\n",
    "Adafruit_NeoPixel seg = Adafruit_NeoPixel(segmentLength, segmentDataPin, NEO_GRB + NEO_KHZ800);     // Configures 7-segment display for 8(actually 7) segments\n",
    "\n",
    "uint16_t PWM_LEVEL = map(DUTY, 0, 100, 0, 65535); // (DUTY/100) * 65535; PWM value ranges from 0 to 65535\n",
    "Adafruit_TLC59711 LED = Adafruit_TLC59711(NUM_TLC59711, clock, data); // initialization with parameters (chip amount, clock pin, data pin)"
   ]
  },
  {
   "cell_type": "markdown",
   "metadata": {},
   "source": [
    "**PIN 9** is the chip select pin needed for SPI to communicate with the CAN-BUS Shield. **PIN 10** can be optionally configured to be the chip select pin physically on the CAN-Bus Shield (see shield documentation). **PINs 11-13** are also needed for SPI communication. 16 NeoPixel LEDs are used so it must be defined for the LED strip initialization. **PIN 5** was chosen as the data pin for the LED strip but can be any other free digital pin.\n",
    "\n",
    "The 7-segment display \"has\" eight LEDs but the dot has no connection and no LED so there's actually only seven LEDs. **PIN 3** was chosen as the data pin for the segment display but can be any other free digital pin.\n",
    "\n",
    "Brightness is the initial brightness setting for both NeoPixel strip and segment display but colors can be set to whatever brightness later on.\n",
    "\n",
    "Number of TLC59711 chips chained together must be defined for initialization. Data and clock pins can be any free digital pins. The PWM driver chip has 12 channels so 12 different chains of LEDs can be controlled. On the chip, pins are labeled RGB with numbers 0-3. Channels are counted up starting from 0. For example, **R0** is channel 0, **G0** is channel 1, **R1** is channel 3, etc. In this case, the engine warning LED is wired to R0 and the EOP LED is wired to G0. A duty percentage is defined for ease of brightness and PWM control.\n",
    "\n",
    "Engine parameters are defined with the minimum RPM level and maximum RPM shift point for the tachometer. Engine temperature and EOP warnings are set to turn on the PWM LEDs when values exceed the defined values.\n",
    "\n",
    "mcp_can library is initialized with whatever the chip select pin number is. Typically, and in this case, on **PIN 9**.\n",
    "The NeoPixel library is initialized with (LED amount, data pin, LED type and timing). Both NeoPixel strip and segment are RGB and have 800kHz data rates. **NEO_GRB + NEO_KHZ800** and others are defined in the .h file of the library.\n",
    "\n",
    "The PWM driver is 16 bits so it can control PWM signals up to 2^16-1. For ease, the numbers are mapped to 0-100 as the duty cycle. The TLC59711 chip is then initialized with (number of chips chained, clock pin, data pin)."
   ]
  },
  {
   "cell_type": "markdown",
   "metadata": {},
   "source": [
    "##Variable Definitions"
   ]
  },
  {
   "cell_type": "code",
   "execution_count": null,
   "metadata": {},
   "outputs": [],
   "source": [
    "// Define LED colors, MAY CHANGE BRIGHTNESS\n",
    "uint32_t greenStrip = strip.Color(0, 20, 0),\n",
    "         yellowStrip = strip.Color(20, 20, 0),\n",
    "         redStrip = strip.Color(20, 0, 0),\n",
    "         redMaxStrip = strip.Color(100, 0, 0),\n",
    "         blueStrip = strip.Color(0, 0, 20),\n",
    "         color[4] = {greenStrip, yellowStrip, redStrip, redMaxStrip};\n",
    "\n",
    "// 7 segment display gear\n",
    "int digitArray[7][8] = {                       // Gears                      ___________      \n",
    "                    {0, 0, 1, 0, 1, 0, 1, 0},  // n                         |     0     |\n",
    "                    {0, 1, 1, 0, 0, 0, 0, 0},  // 1                         |  5     1  |\n",
    "                    {1, 1, 0, 1, 1, 0, 1, 0},  // 2                         |     6     |\n",
    "                    {1, 1, 1, 1, 0, 0, 1, 0},  // 3                         |  4     2  |\n",
    "                    {0, 1, 1, 0, 0, 1, 1, 0},  // 4                         |     3     |\n",
    "                    {1, 0, 1, 1, 0, 1, 1, 0},  // 5                         |_________7_|\n",
    "                    {1, 0, 1, 1, 1, 1, 1, 0}   // 6                         \n",
    "                    };\n",
    "\n",
    "// 7 segment display startup animation\n",
    "int digitHello[5][8] = {\n",
    "                    {0, 1, 1, 0, 1, 1, 1, 0}, //H\n",
    "                    {1, 0, 0, 1, 1, 1, 1, 0}, //E\n",
    "                    {0, 0, 0, 1, 1, 1, 0, 0}, //L\n",
    "                    {0, 0, 0, 1, 1, 1, 0, 0}, //L\n",
    "                    {1, 1, 1, 1, 1, 1, 0, 0}  //O\n",
    "                    };\n",
    "\n",
    "// 7 segment display colors\n",
    "uint32_t redSeg = seg.Color(255, 0, 0),\n",
    "         yellowSeg = seg.Color(255, 255, 0),\n",
    "         greenSeg = seg.Color(0, 255, 0),\n",
    "         blueSeg = seg.Color(0, 0, 255),\n",
    "         whiteSeg = seg.Color(255, 255, 255),\n",
    "         segColor = greenSeg,\n",
    "         prev_segColor;\n",
    "\n",
    "// CAN parameters\n",
    "bool is_CBS_init = false; // True = CAN-BUS initialized succesfully. False = Not initialized yet.\n",
    "\n",
    "//float LED_RPM;\n",
    "int shiftPT[2] = {low_rpm, high_rpm};\n",
    "\n",
    "int prev_range = 10,        // needed for tachometer updating\n",
    "    prev_gear = 10,         // needed for gear position updating\n",
    "    ledStages[2] = {5, 11}, // this is where each stage of the led strip is set. i.e. from ledStages[0] and ledStages[1] is stage one and so on\n",
    "    warningState = 0,       // allows warning to oscillate\n",
    "    blinkInterval = 50;     // warning flash interval\n",
    "long prevBlinkTime = 0;     // timer for warning flash interval\n",
    "bool off = false;           // gear indicator off when engine is off"
   ]
  },
  {
   "cell_type": "markdown",
   "metadata": {},
   "source": [
    "LED colors are predefined for use on the NeoPixel strip. Colors are defined in RGB format and require an **unsigned 32 bit** variable. RGB values range from 0-255 (R,G,B).\n",
    "\n",
    "A 2D array is used to hold the predefined gear positions to display on the segment display. Number of rows is for the amount of gears defined, and number of columns is for the eight LEDs on the segment display. On the right in the comments is the segment display pictured with segments associated with the column number. The last column (column 8) should always be 0 since the dot cannot be used.\n",
    "\n",
    "Other 2D arrays can be defined for custom usage such as startup animations.\n",
    "\n",
    "As the same with the LED strip, the segment display can use defined colors in RGB format.\n",
    "\n",
    "Boolean variable to check if the CAN-BUS initialized successfully during intialization. \n",
    "\n",
    "Shift point parameters for the tachometer, setting lowest RPM and upper RPM shift warning.\n",
    "\n",
    "Previous tachometer and gear variables are for updating both only when there's a change to reduce unncessary flickering updates.\n",
    "\n",
    "Ledstages are to separate the tachometer colors from green to yellow to red depending on the RPM.\n",
    "\n",
    "WarningState is to keep track of the previous state of the shift warning flash so it can flash on and off.\n",
    "\n",
    "BlinkInterval is the shift warning flash interval counted in milliseconds with an internal arduino function used as a timer. Requires a **long** variable."
   ]
  }
 ],
 "metadata": {
  "kernelspec": {
   "display_name": "Python 3",
   "language": "python",
   "name": "python3"
  },
  "language_info": {
   "codemirror_mode": {
    "name": "ipython",
    "version": 3
   },
   "file_extension": ".py",
   "mimetype": "text/x-python",
   "name": "python",
   "nbconvert_exporter": "python",
   "pygments_lexer": "ipython3",
   "version": "3.6.4"
  }
 },
 "nbformat": 4,
 "nbformat_minor": 2
}
